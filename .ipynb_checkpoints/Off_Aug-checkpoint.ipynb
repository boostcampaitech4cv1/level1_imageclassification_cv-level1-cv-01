{
 "cells": [
  {
   "cell_type": "code",
   "execution_count": 26,
   "id": "f1848394-4209-4971-9604-12c8e50f3cbe",
   "metadata": {},
   "outputs": [],
   "source": [
    "import pandas as pd\n",
    "import os\n",
    "import glob\n",
    "import albumentations as A\n",
    "import cv2\n",
    "import numpy as np\n",
    "from PIL import Image"
   ]
  },
  {
   "cell_type": "code",
   "execution_count": 27,
   "id": "282cc7f6-21af-4de1-9520-ca8b82d0871e",
   "metadata": {},
   "outputs": [
    {
     "data": {
      "text/plain": [
       "'1.3.0'"
      ]
     },
     "execution_count": 27,
     "metadata": {},
     "output_type": "execute_result"
    }
   ],
   "source": [
    "cv2.__version__\n",
    "A.__version__"
   ]
  },
  {
   "cell_type": "code",
   "execution_count": 28,
   "id": "dbdda3fc-b8a8-4a9e-90cf-9fff48e42b51",
   "metadata": {},
   "outputs": [],
   "source": [
    "root = '/opt/ml/input/data'\n",
    "\n",
    "filenames = ['incorrect_mask', 'mask1', 'mask2', 'mask3', 'mask4', 'mask5', 'normal']\n",
    "\n",
    "paths = []\n",
    "df = pd.read_csv(os.path.join(root, 'train', 'train.csv'))\n",
    "for path in df['path']:\n",
    "    p = [os.path.join(root, 'train', 'images', path, f+'*') for f in filenames]\n",
    "    paths.extend(glob.glob(p))"
   ]
  },
  {
   "cell_type": "code",
   "execution_count": 29,
   "id": "0ae26a1e-efc7-4dbd-8e30-f16f418f6dac",
   "metadata": {},
   "outputs": [],
   "source": [
    "Horizontal = A.Compose([\n",
    "    A.HorizontalFlip(p=1)\n",
    "])\n",
    "\n",
    "Blur = A.Compose([\n",
    "    A.MedianBlur(blur_limit=5, p=1)\n",
    "])\n",
    "\n",
    "Rotation = A.Compose([\n",
    "    A.Rotate(limit=60, p=1, always_apply=True)\n",
    "])"
   ]
  },
  {
   "cell_type": "code",
   "execution_count": 31,
   "id": "b0fa63fa-6585-40d6-a098-220f3551237d",
   "metadata": {},
   "outputs": [
    {
     "ename": "FileNotFoundError",
     "evalue": "[Errno 2] No such file or directory: '/opt/ml/input/data/train/images/006056_female_Asian_19/incorrect_mask.jpg'",
     "output_type": "error",
     "traceback": [
      "\u001b[0;31m---------------------------------------------------------------------------\u001b[0m",
      "\u001b[0;31mFileNotFoundError\u001b[0m                         Traceback (most recent call last)",
      "\u001b[0;32m<ipython-input-31-8f77fe838ba5>\u001b[0m in \u001b[0;36m<module>\u001b[0;34m\u001b[0m\n\u001b[1;32m      1\u001b[0m \u001b[0;32mfor\u001b[0m \u001b[0mp\u001b[0m \u001b[0;32min\u001b[0m \u001b[0mpaths\u001b[0m\u001b[0;34m:\u001b[0m\u001b[0;34m\u001b[0m\u001b[0;34m\u001b[0m\u001b[0m\n\u001b[0;32m----> 2\u001b[0;31m     \u001b[0mimage\u001b[0m \u001b[0;34m=\u001b[0m \u001b[0mnp\u001b[0m\u001b[0;34m.\u001b[0m\u001b[0marray\u001b[0m\u001b[0;34m(\u001b[0m\u001b[0mImage\u001b[0m\u001b[0;34m.\u001b[0m\u001b[0mopen\u001b[0m\u001b[0;34m(\u001b[0m\u001b[0mp\u001b[0m\u001b[0;34m)\u001b[0m\u001b[0;34m)\u001b[0m\u001b[0;34m\u001b[0m\u001b[0;34m\u001b[0m\u001b[0m\n\u001b[0m\u001b[1;32m      3\u001b[0m \u001b[0;34m\u001b[0m\u001b[0m\n\u001b[1;32m      4\u001b[0m     \u001b[0m_Horizontal\u001b[0m \u001b[0;34m=\u001b[0m \u001b[0mHorizontal\u001b[0m\u001b[0;34m(\u001b[0m\u001b[0mimage\u001b[0m\u001b[0;34m=\u001b[0m\u001b[0mimage\u001b[0m\u001b[0;34m)\u001b[0m\u001b[0;34m\u001b[0m\u001b[0;34m\u001b[0m\u001b[0m\n\u001b[1;32m      5\u001b[0m     \u001b[0m_Blur\u001b[0m \u001b[0;34m=\u001b[0m \u001b[0mBlur\u001b[0m\u001b[0;34m(\u001b[0m\u001b[0mimage\u001b[0m\u001b[0;34m=\u001b[0m\u001b[0mimage\u001b[0m\u001b[0;34m)\u001b[0m\u001b[0;34m\u001b[0m\u001b[0;34m\u001b[0m\u001b[0m\n",
      "\u001b[0;32m/opt/conda/lib/python3.8/site-packages/PIL/Image.py\u001b[0m in \u001b[0;36mopen\u001b[0;34m(fp, mode, formats)\u001b[0m\n\u001b[1;32m   2902\u001b[0m \u001b[0;34m\u001b[0m\u001b[0m\n\u001b[1;32m   2903\u001b[0m     \u001b[0;32mif\u001b[0m \u001b[0mfilename\u001b[0m\u001b[0;34m:\u001b[0m\u001b[0;34m\u001b[0m\u001b[0;34m\u001b[0m\u001b[0m\n\u001b[0;32m-> 2904\u001b[0;31m         \u001b[0mfp\u001b[0m \u001b[0;34m=\u001b[0m \u001b[0mbuiltins\u001b[0m\u001b[0;34m.\u001b[0m\u001b[0mopen\u001b[0m\u001b[0;34m(\u001b[0m\u001b[0mfilename\u001b[0m\u001b[0;34m,\u001b[0m \u001b[0;34m\"rb\"\u001b[0m\u001b[0;34m)\u001b[0m\u001b[0;34m\u001b[0m\u001b[0;34m\u001b[0m\u001b[0m\n\u001b[0m\u001b[1;32m   2905\u001b[0m         \u001b[0mexclusive_fp\u001b[0m \u001b[0;34m=\u001b[0m \u001b[0;32mTrue\u001b[0m\u001b[0;34m\u001b[0m\u001b[0;34m\u001b[0m\u001b[0m\n\u001b[1;32m   2906\u001b[0m \u001b[0;34m\u001b[0m\u001b[0m\n",
      "\u001b[0;31mFileNotFoundError\u001b[0m: [Errno 2] No such file or directory: '/opt/ml/input/data/train/images/006056_female_Asian_19/incorrect_mask.jpg'"
     ]
    }
   ],
   "source": [
    "for p in paths:\n",
    "    image = np.array(Image.open(p))\n",
    "    \n",
    "    _Horizontal = Horizontal(image=image)\n",
    "    _Blur = Blur(image=image)\n",
    "    _Rotation = Rotation(image=image)\n",
    "    \n",
    "    new_path = p.replace('train', 'off_aug')\n",
    "    \n",
    "    os.makedirs(os.path.dirname(new_path), exist_ok=True)\n",
    "    \n",
    "    Image.fromarray(Horizontal(image=image)[\"image\"]).save(new_path[:-4] + '_H' + p[-4:])\n",
    "    Image.fromarray(Blur(image=image)[\"image\"]).save(new_path[:-4] + '_B' + p[-4:])\n",
    "    Image.fromarray(Rotation(image=image)[\"image\"]).save(new_path[:-4] + '_R' + p[-4:])"
   ]
  }
 ],
 "metadata": {
  "kernelspec": {
   "display_name": "Python 3 (ipykernel)",
   "language": "python",
   "name": "python3"
  },
  "language_info": {
   "codemirror_mode": {
    "name": "ipython",
    "version": 3
   },
   "file_extension": ".py",
   "mimetype": "text/x-python",
   "name": "python",
   "nbconvert_exporter": "python",
   "pygments_lexer": "ipython3",
   "version": "3.8.5"
  }
 },
 "nbformat": 4,
 "nbformat_minor": 5
}
