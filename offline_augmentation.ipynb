{
 "cells": [
  {
   "cell_type": "markdown",
   "id": "a52c652d-5500-4741-abfc-1f079dd2921c",
   "metadata": {},
   "source": [
    "# Offline Augmentation\n",
    "\n",
    "한 번 파일이 생성되면 지우기 번거로울 수 있으므로, 데이터 복사 후 적용하길 권장합니다."
   ]
  },
  {
   "cell_type": "code",
   "execution_count": 10,
   "id": "ec4c8d19-3422-4042-a6fc-1961aa615386",
   "metadata": {},
   "outputs": [],
   "source": [
    "import os\n",
    "import glob\n",
    "import numpy as np\n",
    "from tqdm import tqdm\n",
    "from PIL import Image\n",
    "import albumentations as A\n",
    "import re"
   ]
  },
  {
   "cell_type": "code",
   "execution_count": 11,
   "id": "0735225a-dc0b-4194-b9bb-ce62d927abbb",
   "metadata": {},
   "outputs": [],
   "source": [
    "def _parse(p):\n",
    "    \"\"\"\n",
    "    path를 파싱해 라벨 리턴\n",
    "    \"\"\"\n",
    "    p = str(p)\n",
    "    match = re.search('_(.+)_Asian_(\\d+)/(.*)[\\.-]', p)\n",
    "    if match and len(match.groups()) == 3:\n",
    "        gender, age, mask = match.groups()\n",
    "        gender = 0 if gender == 'male' else 1\n",
    "        age = int(age)\n",
    "        if age < 30:\n",
    "            age = 0\n",
    "        elif age < 60:\n",
    "            age = 1\n",
    "        else:\n",
    "            age = 2\n",
    "\n",
    "        if mask.startswith('normal'):\n",
    "            mask = 2\n",
    "        elif mask.startswith('incorrect'):\n",
    "            mask = 1\n",
    "        else:\n",
    "            mask = 0\n",
    "        return mask, gender, age\n",
    "    else:\n",
    "        raise Exception(f'Cannot parse label from the path: {p}')\n",
    "\n",
    "def is_image(path):\n",
    "    exts = ['jpg', 'jpeg', 'png']\n",
    "    for ext in exts:\n",
    "        if path.endswith(ext):\n",
    "            return True\n",
    "    return False\n",
    "\n",
    "def glob_image_paths(root):\n",
    "    \"\"\"\n",
    "    root 하위에 있는 이미지 경로들을 리턴하는 함수\n",
    "    Args:\n",
    "        root: 이미지가 있는 경로\n",
    "    \"\"\"\n",
    "    paths = glob.glob(os.path.join(root, '**/*'), recursive=True)\n",
    "    paths = [f for f in paths if is_image(f)]\n",
    "    return paths\n",
    "\n",
    "def offline_aug(paths, suffix, transform):\n",
    "    \"\"\"\n",
    "    OfflineAug를 위한 함수.\n",
    "    paths로 주어진 이미지 파일들에 transform을 적용한 이미지를 새로 생성함.\n",
    "    새로 생성된 이미지는 같은 디렉터리에 저장되며,\n",
    "    '{원래파일명}-{suffix}.jpg' 형식의 파일명으로 저장됨.\n",
    "    Args:\n",
    "        paths: OfflineAug를 적용할 이미지 경로들\n",
    "        suffix: 파일명에 사용할 접미사.\n",
    "        transform: 이미지에 적용할 변환. Albumentation 권장\n",
    "    \"\"\"\n",
    "    for path in tqdm(paths):\n",
    "        newpath = path[0] + path[1:].replace('.', f'-{suffix}.')\n",
    "\n",
    "        im = np.array(Image.open(path))\n",
    "        im = transform(image=im)['image']\n",
    "        im = Image.fromarray(im)\n",
    "        im.save(newpath)\n",
    "\n",
    "    print('Offline Augmentation 완료')"
   ]
  },
  {
   "cell_type": "code",
   "execution_count": 12,
   "id": "90ed741f-43f8-4f31-a840-8efadd60f7c2",
   "metadata": {},
   "outputs": [
    {
     "name": "stdout",
     "output_type": "stream",
     "text": [
      "Offline Aug 전 이미지 개수: 1344\n"
     ]
    }
   ],
   "source": [
    "ROOT = '/opt/ml/input/60HFRotate45' # ex) /opt/ml/input/data/train/images\n",
    "paths = glob_image_paths(ROOT)\n",
    "paths = [p for p in paths if _parse(p)[2] == 2]\n",
    "\n",
    "print('Offline Aug 전 이미지 개수:', len(paths))"
   ]
  },
  {
   "cell_type": "code",
   "execution_count": 13,
   "id": "d4423b15-3fde-4bac-8053-d51cf76818a6",
   "metadata": {},
   "outputs": [
    {
     "name": "stderr",
     "output_type": "stream",
     "text": [
      "100%|██████████| 1344/1344 [00:14<00:00, 92.64it/s]"
     ]
    },
    {
     "name": "stdout",
     "output_type": "stream",
     "text": [
      "Offline Augmentation 완료\n"
     ]
    },
    {
     "name": "stderr",
     "output_type": "stream",
     "text": [
      "\n"
     ]
    }
   ],
   "source": [
    "# 원하는 Transform 정의\n",
    "t = A.Compose([\n",
    "    A.HorizontalFlip(p=1.0)\n",
    "])\n",
    "\n",
    "L = offline_aug(paths, 'HFlip', t)"
   ]
  },
  {
   "cell_type": "code",
   "execution_count": 14,
   "id": "99d61ae6-f147-44a4-8ae2-085aafa3a5e5",
   "metadata": {},
   "outputs": [
    {
     "name": "stderr",
     "output_type": "stream",
     "text": [
      "100%|██████████| 1344/1344 [00:17<00:00, 76.27it/s]"
     ]
    },
    {
     "name": "stdout",
     "output_type": "stream",
     "text": [
      "Offline Augmentation 완료\n"
     ]
    },
    {
     "name": "stderr",
     "output_type": "stream",
     "text": [
      "\n"
     ]
    }
   ],
   "source": [
    "t = A.Compose([\n",
    "    A.Rotate(45, p=1, always_apply=True)\n",
    "])\n",
    "L = offline_aug(paths, 'R45', t)"
   ]
  },
  {
   "cell_type": "code",
   "execution_count": 15,
   "id": "b238139d-81c8-42f7-b458-8af70b7d7d79",
   "metadata": {},
   "outputs": [
    {
     "name": "stdout",
     "output_type": "stream",
     "text": [
      "Offline Aug 후 이미지 개수: 21588\n"
     ]
    }
   ],
   "source": [
    "paths = glob_image_paths(ROOT)\n",
    "print('Offline Aug 후 이미지 개수:', len(paths))"
   ]
  }
 ],
 "metadata": {
  "kernelspec": {
   "display_name": "Python 3 (ipykernel)",
   "language": "python",
   "name": "python3"
  },
  "language_info": {
   "codemirror_mode": {
    "name": "ipython",
    "version": 3
   },
   "file_extension": ".py",
   "mimetype": "text/x-python",
   "name": "python",
   "nbconvert_exporter": "python",
   "pygments_lexer": "ipython3",
   "version": "3.8.5"
  }
 },
 "nbformat": 4,
 "nbformat_minor": 5
}
