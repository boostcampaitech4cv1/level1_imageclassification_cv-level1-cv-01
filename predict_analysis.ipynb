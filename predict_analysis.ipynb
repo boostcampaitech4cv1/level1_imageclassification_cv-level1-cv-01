{
 "cells": [
  {
   "cell_type": "code",
   "execution_count": 1,
   "metadata": {},
   "outputs": [],
   "source": [
    "import pandas as pd\n",
    "from PIL import Image\n",
    "import matplotlib.pyplot as plt\n",
    "import seaborn as sns\n",
    "import os\n",
    "from sklearn.model_selection import StratifiedShuffleSplit"
   ]
  },
  {
   "cell_type": "code",
   "execution_count": 2,
   "metadata": {},
   "outputs": [],
   "source": [
    "output_dir = '/opt/ml/project-T4193/outputs'\n",
    "\n",
    "pred_csv_filename = 'submission.csv'\n",
    "pred_csv_path = os.path.join(output_dir, pred_csv_filename)\n",
    "\n",
    "best_csv_filename = 'best_output.csv'\n",
    "best_csv_path = os.path.join(output_dir, best_csv_filename)\n",
    "\n",
    "pred_df = pd.read_csv(pred_csv_path)\n",
    "best_df = pd.read_csv(best_csv_path)"
   ]
  },
  {
   "cell_type": "code",
   "execution_count": 3,
   "metadata": {},
   "outputs": [
    {
     "data": {
      "text/plain": [
       "count    12600.000000\n",
       "mean         4.781429\n",
       "std          0.662397\n",
       "min          0.000000\n",
       "25%          5.000000\n",
       "50%          5.000000\n",
       "75%          5.000000\n",
       "max         11.000000\n",
       "Name: ans, dtype: float64"
      ]
     },
     "execution_count": 3,
     "metadata": {},
     "output_type": "execute_result"
    }
   ],
   "source": [
    "pred_df['ans'].describe()"
   ]
  },
  {
   "cell_type": "code",
   "execution_count": 4,
   "metadata": {},
   "outputs": [
    {
     "data": {
      "text/plain": [
       "pandas.core.series.Series"
      ]
     },
     "execution_count": 4,
     "metadata": {},
     "output_type": "execute_result"
    }
   ],
   "source": [
    "type(pred_df['ans'])"
   ]
  },
  {
   "cell_type": "code",
   "execution_count": 5,
   "metadata": {},
   "outputs": [],
   "source": [
    "# 라벨링이 잘 된건지 확인해보자."
   ]
  },
  {
   "cell_type": "code",
   "execution_count": 6,
   "metadata": {},
   "outputs": [],
   "source": [
    "# StratifiedShuffleSplit\n",
    "\n",
    "data_dir = '/opt/ml/input/data/train' # 이게 뭐임?\n",
    "df = pd.read_csv(os.path.join(data_dir, 'train.csv'))\n",
    "paths = df['path'].to_numpy()\n",
    "labels = (df['gender'].map({'male': 0, 'female': 1}) * 3 + df['age'] // 30)\n",
    "\n",
    "s = StratifiedShuffleSplit(n_splits=1, test_size=0.1, random_state=0)\n",
    "s.get_n_splits()\n",
    "train_idx, valid_idx = next(s.split(paths, labels))"
   ]
  },
  {
   "cell_type": "code",
   "execution_count": 7,
   "metadata": {},
   "outputs": [
    {
     "name": "stdout",
     "output_type": "stream",
     "text": [
      "2430\n",
      "270\n"
     ]
    }
   ],
   "source": [
    "print(len(train_idx))\n",
    "print(len(valid_idx))\n"
   ]
  },
  {
   "cell_type": "code",
   "execution_count": 8,
   "metadata": {},
   "outputs": [],
   "source": [
    "def _have_aug_image(path):\n",
    "    path = str(path)\n",
    "    age = int(path.split('_')[3])\n",
    "    if age == 60:\n",
    "        return True\n",
    "    else:\n",
    "        False\n",
    "def _is_image(path):\n",
    "    exts = ['jpg', 'jpeg', 'png']\n",
    "    p = str(path)\n",
    "    return '._' not in p and any(p.endswith(ext) for ext in exts)"
   ]
  },
  {
   "cell_type": "markdown",
   "metadata": {},
   "source": [
    "# 60대 online augmentation 적용 - O"
   ]
  },
  {
   "cell_type": "code",
   "execution_count": 9,
   "metadata": {},
   "outputs": [],
   "source": [
    "import os\n",
    "import re\n",
    "import glob\n",
    "from pathlib import Path\n",
    "from torch.utils.data import Dataset\n",
    "from PIL import Image\n",
    "\n",
    "class Aug60_Dataset(Dataset):\n",
    "    def __init__(self, root, transform, train=True, paths=None):\n",
    "        \"\"\"\n",
    "        csv 없이 파일 경로에서 라벨을 추출하는 데이터셋\n",
    "        OfflineAug를 위해 제작함\n",
    "        Args:\n",
    "            root: 이미지가 들어있는 최상위 디렉터리\n",
    "                  ex) '/opt/ml/input/data/train'\n",
    "            transform:\n",
    "            train:\n",
    "        \"\"\"\n",
    "        self.root = root = Path(root)\n",
    "        self.train = train\n",
    "        self.transform = transform\n",
    "\n",
    "        self.paths = []\n",
    "        self.labels = []\n",
    "\n",
    "        if paths is None:\n",
    "            files = root.glob('**/*')\n",
    "            self.paths = [f for f in files if self._is_image(f)]\n",
    "        else:\n",
    "            for path in paths:\n",
    "                files = (root / 'images' / path).glob('*.*')\n",
    "                files = [f for f in files if self._is_image(f)]\n",
    "                self.paths.extend(files)\n",
    "                \n",
    "                # 60aug_image path 추가\n",
    "                if _have_aug_image(path):\n",
    "                    files = (root / '60aug_images' / path).glob('*.*')\n",
    "                    files = [f for f in files if self._is_image(f)]\n",
    "                    self.paths.extend(files)\n",
    "\n",
    "        if train:\n",
    "            for p in self.paths:\n",
    "                self.labels.append(self._parse(p))\n",
    "\n",
    "\n",
    "    def _is_image(self, path):\n",
    "        exts = ['jpg', 'jpeg', 'png']\n",
    "        p = str(path)\n",
    "        return '._' not in p and any(p.endswith(ext) for ext in exts)\n",
    "\n",
    "\n",
    "    def _parse(self, p):\n",
    "        \"\"\"\n",
    "        path를 파싱해 라벨 리턴\n",
    "        \"\"\"\n",
    "        p = str(p)\n",
    "        match = re.search('_(.+)_Asian_(\\d+)/(.*)[\\.-]', p)\n",
    "        if match and len(match.groups()) == 3:\n",
    "            gender, age, mask = match.groups()\n",
    "            gender = 0 if gender == 'male' else 1\n",
    "            age = int(age)\n",
    "            if age < 30:\n",
    "                age = 0\n",
    "            elif age < 60:\n",
    "                age = 1\n",
    "            else:\n",
    "                age = 2\n",
    "\n",
    "            if mask.startswith('normal'):\n",
    "                mask = 2\n",
    "            elif mask.startswith('incorrect'):\n",
    "                mask = 1\n",
    "            else:\n",
    "                mask = 0\n",
    "\n",
    "            return str((mask, gender,  age))\n",
    "        else:\n",
    "            raise Exception(f'Cannot parsing label from the path: {p}')\n",
    "\n",
    "\n",
    "    def __getitem__(self, index):\n",
    "        image = Image.open(self.paths[index])\n",
    "        if self.transform:\n",
    "            image = self.transform(image)\n",
    "        if self.train:\n",
    "            label = self.labels[index]\n",
    "            return image, label\n",
    "        return image, -1\n",
    "\n",
    "    def __len__(self):\n",
    "        return len(self.paths)"
   ]
  },
  {
   "cell_type": "markdown",
   "metadata": {},
   "source": [
    "### valid_dataset 분포"
   ]
  },
  {
   "cell_type": "code",
   "execution_count": 10,
   "metadata": {},
   "outputs": [
    {
     "data": {
      "text/html": [
       "<div>\n",
       "<style scoped>\n",
       "    .dataframe tbody tr th:only-of-type {\n",
       "        vertical-align: middle;\n",
       "    }\n",
       "\n",
       "    .dataframe tbody tr th {\n",
       "        vertical-align: top;\n",
       "    }\n",
       "\n",
       "    .dataframe thead th {\n",
       "        text-align: right;\n",
       "    }\n",
       "</style>\n",
       "<table border=\"1\" class=\"dataframe\">\n",
       "  <thead>\n",
       "    <tr style=\"text-align: right;\">\n",
       "      <th></th>\n",
       "      <th>label</th>\n",
       "    </tr>\n",
       "  </thead>\n",
       "  <tbody>\n",
       "    <tr>\n",
       "      <th>0</th>\n",
       "      <td>(0, 1, 1)</td>\n",
       "    </tr>\n",
       "    <tr>\n",
       "      <th>1</th>\n",
       "      <td>(0, 1, 1)</td>\n",
       "    </tr>\n",
       "    <tr>\n",
       "      <th>2</th>\n",
       "      <td>(0, 1, 1)</td>\n",
       "    </tr>\n",
       "    <tr>\n",
       "      <th>3</th>\n",
       "      <td>(0, 1, 1)</td>\n",
       "    </tr>\n",
       "    <tr>\n",
       "      <th>4</th>\n",
       "      <td>(0, 1, 1)</td>\n",
       "    </tr>\n",
       "    <tr>\n",
       "      <th>...</th>\n",
       "      <td>...</td>\n",
       "    </tr>\n",
       "    <tr>\n",
       "      <th>2550</th>\n",
       "      <td>(0, 0, 1)</td>\n",
       "    </tr>\n",
       "    <tr>\n",
       "      <th>2551</th>\n",
       "      <td>(0, 0, 1)</td>\n",
       "    </tr>\n",
       "    <tr>\n",
       "      <th>2552</th>\n",
       "      <td>(0, 0, 1)</td>\n",
       "    </tr>\n",
       "    <tr>\n",
       "      <th>2553</th>\n",
       "      <td>(2, 0, 1)</td>\n",
       "    </tr>\n",
       "    <tr>\n",
       "      <th>2554</th>\n",
       "      <td>(1, 0, 1)</td>\n",
       "    </tr>\n",
       "  </tbody>\n",
       "</table>\n",
       "<p>2555 rows × 1 columns</p>\n",
       "</div>"
      ],
      "text/plain": [
       "          label\n",
       "0     (0, 1, 1)\n",
       "1     (0, 1, 1)\n",
       "2     (0, 1, 1)\n",
       "3     (0, 1, 1)\n",
       "4     (0, 1, 1)\n",
       "...         ...\n",
       "2550  (0, 0, 1)\n",
       "2551  (0, 0, 1)\n",
       "2552  (0, 0, 1)\n",
       "2553  (2, 0, 1)\n",
       "2554  (1, 0, 1)\n",
       "\n",
       "[2555 rows x 1 columns]"
      ]
     },
     "execution_count": 10,
     "metadata": {},
     "output_type": "execute_result"
    }
   ],
   "source": [
    "\n",
    "valid_dataset = Aug60_Dataset('/opt/ml/input/data/train', None, paths=paths[valid_idx])\n",
    "l = valid_dataset.labels\n",
    "valid_df = pd.DataFrame(l, columns=['label'])\n",
    "valid_df"
   ]
  },
  {
   "cell_type": "code",
   "execution_count": 11,
   "metadata": {},
   "outputs": [
    {
     "data": {
      "text/plain": [
       "<matplotlib.axes._subplots.AxesSubplot at 0x7f9bf916ea30>"
      ]
     },
     "execution_count": 11,
     "metadata": {},
     "output_type": "execute_result"
    },
    {
     "data": {
      "image/png": "[encoded data removed]",
      "text/plain": [
       "<Figure size 1020x680 with 1 Axes>"
      ]
     },
     "metadata": {
      "needs_background": "light"
     },
     "output_type": "display_data"
    }
   ],
   "source": [
    "# valid_dataset 에 데이터 분포는 어떻게 될까?\n",
    "plt.figure(dpi=170)\n",
    "plt.xticks(rotation=45)\n",
    "plt.title('60age Online Augmentate Version\\nValid Dataset Distribution', y=-0.4)\n",
    "sns.countplot(x='label', data=valid_df, order=sorted(valid_df['label'].unique()))"
   ]
  },
  {
   "cell_type": "markdown",
   "metadata": {},
   "source": [
    "### Train dataset 분포"
   ]
  },
  {
   "cell_type": "code",
   "execution_count": 12,
   "metadata": {},
   "outputs": [
    {
     "data": {
      "text/html": [
       "<div>\n",
       "<style scoped>\n",
       "    .dataframe tbody tr th:only-of-type {\n",
       "        vertical-align: middle;\n",
       "    }\n",
       "\n",
       "    .dataframe tbody tr th {\n",
       "        vertical-align: top;\n",
       "    }\n",
       "\n",
       "    .dataframe thead th {\n",
       "        text-align: right;\n",
       "    }\n",
       "</style>\n",
       "<table border=\"1\" class=\"dataframe\">\n",
       "  <thead>\n",
       "    <tr style=\"text-align: right;\">\n",
       "      <th></th>\n",
       "      <th>label</th>\n",
       "    </tr>\n",
       "  </thead>\n",
       "  <tbody>\n",
       "    <tr>\n",
       "      <th>0</th>\n",
       "      <td>(0, 1, 0)</td>\n",
       "    </tr>\n",
       "    <tr>\n",
       "      <th>1</th>\n",
       "      <td>(0, 1, 0)</td>\n",
       "    </tr>\n",
       "    <tr>\n",
       "      <th>2</th>\n",
       "      <td>(0, 1, 0)</td>\n",
       "    </tr>\n",
       "    <tr>\n",
       "      <th>3</th>\n",
       "      <td>(0, 1, 0)</td>\n",
       "    </tr>\n",
       "    <tr>\n",
       "      <th>4</th>\n",
       "      <td>(0, 1, 0)</td>\n",
       "    </tr>\n",
       "    <tr>\n",
       "      <th>...</th>\n",
       "      <td>...</td>\n",
       "    </tr>\n",
       "    <tr>\n",
       "      <th>23060</th>\n",
       "      <td>(0, 0, 0)</td>\n",
       "    </tr>\n",
       "    <tr>\n",
       "      <th>23061</th>\n",
       "      <td>(0, 0, 0)</td>\n",
       "    </tr>\n",
       "    <tr>\n",
       "      <th>23062</th>\n",
       "      <td>(0, 0, 0)</td>\n",
       "    </tr>\n",
       "    <tr>\n",
       "      <th>23063</th>\n",
       "      <td>(2, 0, 0)</td>\n",
       "    </tr>\n",
       "    <tr>\n",
       "      <th>23064</th>\n",
       "      <td>(1, 0, 0)</td>\n",
       "    </tr>\n",
       "  </tbody>\n",
       "</table>\n",
       "<p>23065 rows × 1 columns</p>\n",
       "</div>"
      ],
      "text/plain": [
       "           label\n",
       "0      (0, 1, 0)\n",
       "1      (0, 1, 0)\n",
       "2      (0, 1, 0)\n",
       "3      (0, 1, 0)\n",
       "4      (0, 1, 0)\n",
       "...          ...\n",
       "23060  (0, 0, 0)\n",
       "23061  (0, 0, 0)\n",
       "23062  (0, 0, 0)\n",
       "23063  (2, 0, 0)\n",
       "23064  (1, 0, 0)\n",
       "\n",
       "[23065 rows x 1 columns]"
      ]
     },
     "execution_count": 12,
     "metadata": {},
     "output_type": "execute_result"
    }
   ],
   "source": [
    "train_dataset = Aug60_Dataset('/opt/ml/input/data/train', None, paths=paths[train_idx])\n",
    "l = train_dataset.labels\n",
    "train_df = pd.DataFrame(l, columns=['label'])\n",
    "train_df"
   ]
  },
  {
   "cell_type": "code",
   "execution_count": 13,
   "metadata": {},
   "outputs": [
    {
     "data": {
      "text/plain": [
       "<matplotlib.axes._subplots.AxesSubplot at 0x7f9b2bb95730>"
      ]
     },
     "execution_count": 13,
     "metadata": {},
     "output_type": "execute_result"
    },
    {
     "data": {
      "image/png": "[encoded data removed]",
      "text/plain": [
       "<Figure size 900x600 with 1 Axes>"
      ]
     },
     "metadata": {
      "needs_background": "light"
     },
     "output_type": "display_data"
    }
   ],
   "source": [
    "# train_dataset 에 데이터 분포는 어떻게 될까?\n",
    "plt.figure(dpi=150)\n",
    "plt.xticks(rotation=45)\n",
    "plt.title('60age Online Augmentate Version\\nTrain Dataset Distribution', y=-0.4)\n",
    "sns.countplot(x='label', data=train_df, order=sorted(train_df['label'].unique()))"
   ]
  },
  {
   "cell_type": "code",
   "execution_count": null,
   "metadata": {},
   "outputs": [],
   "source": []
  },
  {
   "cell_type": "markdown",
   "metadata": {},
   "source": [
    "# 60대 online augmentation 적용 - X"
   ]
  },
  {
   "cell_type": "code",
   "execution_count": 16,
   "metadata": {},
   "outputs": [],
   "source": [
    "import os\n",
    "import re\n",
    "import glob\n",
    "from pathlib import Path\n",
    "from torch.utils.data import Dataset\n",
    "from PIL import Image\n",
    "\n",
    "class MaskGlobDataset(Dataset):\n",
    "    def __init__(self, root, transform, train=True, paths=None):\n",
    "        \"\"\"\n",
    "        csv 없이 파일 경로에서 라벨을 추출하는 데이터셋\n",
    "        OfflineAug를 위해 제작함\n",
    "        Args:\n",
    "            root: 이미지가 들어있는 최상위 디렉터리\n",
    "                  ex) '/opt/ml/input/data/train'\n",
    "            transform:\n",
    "            train:\n",
    "        \"\"\"\n",
    "        self.root = root = Path(root)\n",
    "        self.train = train\n",
    "        self.transform = transform\n",
    "\n",
    "        self.paths = []\n",
    "        self.labels = []\n",
    "\n",
    "        if paths is None:\n",
    "            files = root.glob('**/*')\n",
    "            self.paths = [f for f in files if self._is_image(f)]\n",
    "        else:\n",
    "            for path in paths:\n",
    "                files = (root / 'images' / path).glob('*.*')\n",
    "                files = [f for f in files if self._is_image(f)]\n",
    "                self.paths.extend(files)\n",
    "\n",
    "        if train:\n",
    "            for p in self.paths:\n",
    "                self.labels.append(self._parse(p))\n",
    "\n",
    "\n",
    "    def _is_image(self, path):\n",
    "        exts = ['jpg', 'jpeg', 'png']\n",
    "        p = str(path)\n",
    "        return '._' not in p and any(p.endswith(ext) for ext in exts)\n",
    "\n",
    "\n",
    "    def _parse(self, p):\n",
    "        \"\"\"\n",
    "        path를 파싱해 라벨 리턴\n",
    "        \"\"\"\n",
    "        p = str(p)\n",
    "        match = re.search('_(.+)_Asian_(\\d+)/(.*)[\\.-]', p)\n",
    "        if match and len(match.groups()) == 3:\n",
    "            gender, age, mask = match.groups()\n",
    "            gender = 0 if gender == 'male' else 1\n",
    "            age = int(age)\n",
    "            if age < 30:\n",
    "                age = 0\n",
    "            elif age < 60:\n",
    "                age = 1\n",
    "            else:\n",
    "                age = 2\n",
    "\n",
    "            if mask.startswith('normal'):\n",
    "                mask = 2\n",
    "            elif mask.startswith('incorrect'):\n",
    "                mask = 1\n",
    "            else:\n",
    "                mask = 0\n",
    "\n",
    "            return str((mask, gender,  age))\n",
    "        else:\n",
    "            raise Exception(f'Cannot parsing label from the path: {p}')\n",
    "\n",
    "\n",
    "    def __getitem__(self, index):\n",
    "        image = Image.open(self.paths[index])\n",
    "        if self.transform:\n",
    "            image = self.transform(image)\n",
    "        if self.train:\n",
    "            label = self.labels[index]\n",
    "            return image, label\n",
    "        return image, -1\n",
    "\n",
    "    def __len__(self):\n",
    "        return len(self.paths)"
   ]
  },
  {
   "cell_type": "code",
   "execution_count": 17,
   "metadata": {},
   "outputs": [
    {
     "data": {
      "text/html": [
       "<div>\n",
       "<style scoped>\n",
       "    .dataframe tbody tr th:only-of-type {\n",
       "        vertical-align: middle;\n",
       "    }\n",
       "\n",
       "    .dataframe tbody tr th {\n",
       "        vertical-align: top;\n",
       "    }\n",
       "\n",
       "    .dataframe thead th {\n",
       "        text-align: right;\n",
       "    }\n",
       "</style>\n",
       "<table border=\"1\" class=\"dataframe\">\n",
       "  <thead>\n",
       "    <tr style=\"text-align: right;\">\n",
       "      <th></th>\n",
       "      <th>label</th>\n",
       "    </tr>\n",
       "  </thead>\n",
       "  <tbody>\n",
       "    <tr>\n",
       "      <th>0</th>\n",
       "      <td>(0, 1, 0)</td>\n",
       "    </tr>\n",
       "    <tr>\n",
       "      <th>1</th>\n",
       "      <td>(0, 1, 0)</td>\n",
       "    </tr>\n",
       "    <tr>\n",
       "      <th>2</th>\n",
       "      <td>(0, 1, 0)</td>\n",
       "    </tr>\n",
       "    <tr>\n",
       "      <th>3</th>\n",
       "      <td>(0, 1, 0)</td>\n",
       "    </tr>\n",
       "    <tr>\n",
       "      <th>4</th>\n",
       "      <td>(0, 1, 0)</td>\n",
       "    </tr>\n",
       "    <tr>\n",
       "      <th>...</th>\n",
       "      <td>...</td>\n",
       "    </tr>\n",
       "    <tr>\n",
       "      <th>17005</th>\n",
       "      <td>(0, 0, 0)</td>\n",
       "    </tr>\n",
       "    <tr>\n",
       "      <th>17006</th>\n",
       "      <td>(0, 0, 0)</td>\n",
       "    </tr>\n",
       "    <tr>\n",
       "      <th>17007</th>\n",
       "      <td>(0, 0, 0)</td>\n",
       "    </tr>\n",
       "    <tr>\n",
       "      <th>17008</th>\n",
       "      <td>(2, 0, 0)</td>\n",
       "    </tr>\n",
       "    <tr>\n",
       "      <th>17009</th>\n",
       "      <td>(1, 0, 0)</td>\n",
       "    </tr>\n",
       "  </tbody>\n",
       "</table>\n",
       "<p>17010 rows × 1 columns</p>\n",
       "</div>"
      ],
      "text/plain": [
       "           label\n",
       "0      (0, 1, 0)\n",
       "1      (0, 1, 0)\n",
       "2      (0, 1, 0)\n",
       "3      (0, 1, 0)\n",
       "4      (0, 1, 0)\n",
       "...          ...\n",
       "17005  (0, 0, 0)\n",
       "17006  (0, 0, 0)\n",
       "17007  (0, 0, 0)\n",
       "17008  (2, 0, 0)\n",
       "17009  (1, 0, 0)\n",
       "\n",
       "[17010 rows x 1 columns]"
      ]
     },
     "execution_count": 17,
     "metadata": {},
     "output_type": "execute_result"
    }
   ],
   "source": [
    "train_dataset = MaskGlobDataset('/opt/ml/input/data/train', None, paths=paths[train_idx])\n",
    "l = train_dataset.labels\n",
    "train_df = pd.DataFrame(l, columns=['label'])\n",
    "train_df"
   ]
  },
  {
   "cell_type": "code",
   "execution_count": 18,
   "metadata": {},
   "outputs": [
    {
     "data": {
      "text/plain": [
       "<matplotlib.axes._subplots.AxesSubplot at 0x7f9b2bbec460>"
      ]
     },
     "execution_count": 18,
     "metadata": {},
     "output_type": "execute_result"
    },
    {
     "data": {
      "image/png": "[encoded data removed]",
      "text/plain": [
       "<Figure size 900x600 with 1 Axes>"
      ]
     },
     "metadata": {
      "needs_background": "light"
     },
     "output_type": "display_data"
    }
   ],
   "source": [
    "# train_dataset 에 데이터 분포는 어떻게 될까?\n",
    "plt.figure(dpi=150)\n",
    "plt.xticks(rotation=45)\n",
    "plt.title('No Online Augmentation Version\\nTrain Dataset Distribution', y=-0.4)\n",
    "sns.countplot(x='label', data=train_df, order=sorted(train_df['label'].unique()))"
   ]
  },
  {
   "cell_type": "code",
   "execution_count": 19,
   "metadata": {},
   "outputs": [
    {
     "data": {
      "text/html": [
       "<div>\n",
       "<style scoped>\n",
       "    .dataframe tbody tr th:only-of-type {\n",
       "        vertical-align: middle;\n",
       "    }\n",
       "\n",
       "    .dataframe tbody tr th {\n",
       "        vertical-align: top;\n",
       "    }\n",
       "\n",
       "    .dataframe thead th {\n",
       "        text-align: right;\n",
       "    }\n",
       "</style>\n",
       "<table border=\"1\" class=\"dataframe\">\n",
       "  <thead>\n",
       "    <tr style=\"text-align: right;\">\n",
       "      <th></th>\n",
       "      <th>label</th>\n",
       "    </tr>\n",
       "  </thead>\n",
       "  <tbody>\n",
       "    <tr>\n",
       "      <th>0</th>\n",
       "      <td>(0, 1, 1)</td>\n",
       "    </tr>\n",
       "    <tr>\n",
       "      <th>1</th>\n",
       "      <td>(0, 1, 1)</td>\n",
       "    </tr>\n",
       "    <tr>\n",
       "      <th>2</th>\n",
       "      <td>(0, 1, 1)</td>\n",
       "    </tr>\n",
       "    <tr>\n",
       "      <th>3</th>\n",
       "      <td>(0, 1, 1)</td>\n",
       "    </tr>\n",
       "    <tr>\n",
       "      <th>4</th>\n",
       "      <td>(0, 1, 1)</td>\n",
       "    </tr>\n",
       "    <tr>\n",
       "      <th>...</th>\n",
       "      <td>...</td>\n",
       "    </tr>\n",
       "    <tr>\n",
       "      <th>1885</th>\n",
       "      <td>(0, 0, 1)</td>\n",
       "    </tr>\n",
       "    <tr>\n",
       "      <th>1886</th>\n",
       "      <td>(0, 0, 1)</td>\n",
       "    </tr>\n",
       "    <tr>\n",
       "      <th>1887</th>\n",
       "      <td>(0, 0, 1)</td>\n",
       "    </tr>\n",
       "    <tr>\n",
       "      <th>1888</th>\n",
       "      <td>(2, 0, 1)</td>\n",
       "    </tr>\n",
       "    <tr>\n",
       "      <th>1889</th>\n",
       "      <td>(1, 0, 1)</td>\n",
       "    </tr>\n",
       "  </tbody>\n",
       "</table>\n",
       "<p>1890 rows × 1 columns</p>\n",
       "</div>"
      ],
      "text/plain": [
       "          label\n",
       "0     (0, 1, 1)\n",
       "1     (0, 1, 1)\n",
       "2     (0, 1, 1)\n",
       "3     (0, 1, 1)\n",
       "4     (0, 1, 1)\n",
       "...         ...\n",
       "1885  (0, 0, 1)\n",
       "1886  (0, 0, 1)\n",
       "1887  (0, 0, 1)\n",
       "1888  (2, 0, 1)\n",
       "1889  (1, 0, 1)\n",
       "\n",
       "[1890 rows x 1 columns]"
      ]
     },
     "execution_count": 19,
     "metadata": {},
     "output_type": "execute_result"
    }
   ],
   "source": [
    "\n",
    "valid_dataset = MaskGlobDataset('/opt/ml/input/data/train', None, paths=paths[valid_idx])\n",
    "l = valid_dataset.labels\n",
    "valid_df = pd.DataFrame(l, columns=['label'])\n",
    "valid_df"
   ]
  },
  {
   "cell_type": "code",
   "execution_count": 15,
   "metadata": {},
   "outputs": [
    {
     "data": {
      "text/plain": [
       "<matplotlib.axes._subplots.AxesSubplot at 0x7f9b2a63a190>"
      ]
     },
     "execution_count": 15,
     "metadata": {},
     "output_type": "execute_result"
    },
    {
     "data": {
      "image/png": "[encoded data removed]",
      "text/plain": [
       "<Figure size 1020x680 with 1 Axes>"
      ]
     },
     "metadata": {
      "needs_background": "light"
     },
     "output_type": "display_data"
    }
   ],
   "source": [
    "# valid_dataset 에 데이터 분포는 어떻게 될까?\n",
    "plt.figure(dpi=170)\n",
    "plt.xticks(rotation=45)\n",
    "plt.title('No Online Augmentation Version\\nValid Dataset Distribution', y=-0.4)\n",
    "sns.countplot(x='label', data=valid_df, order=sorted(valid_df['label'].unique()))"
   ]
  },
  {
   "cell_type": "code",
   "execution_count": null,
   "metadata": {},
   "outputs": [],
   "source": []
  },
  {
   "cell_type": "code",
   "execution_count": null,
   "metadata": {},
   "outputs": [],
   "source": []
  },
  {
   "cell_type": "code",
   "execution_count": null,
   "metadata": {},
   "outputs": [],
   "source": []
  },
  {
   "cell_type": "code",
   "execution_count": 20,
   "metadata": {},
   "outputs": [],
   "source": [
    "data_dir = '/opt/ml/input/data/train' # 이게 뭐임?\n",
    "df = pd.read_csv(os.path.join(data_dir, 'train.csv'))\n",
    "paths = df['path'].to_numpy()"
   ]
  },
  {
   "cell_type": "code",
   "execution_count": 64,
   "metadata": {},
   "outputs": [
    {
     "data": {
      "text/plain": [
       "array(['000001_female_Asian_45', '000002_female_Asian_52',\n",
       "       '000004_male_Asian_54', ..., '006956_male_Asian_19',\n",
       "       '006957_male_Asian_20', '006959_male_Asian_19'], dtype=object)"
      ]
     },
     "execution_count": 64,
     "metadata": {},
     "output_type": "execute_result"
    }
   ],
   "source": [
    "paths"
   ]
  },
  {
   "cell_type": "code",
   "execution_count": 65,
   "metadata": {},
   "outputs": [
    {
     "data": {
      "text/plain": [
       "PosixPath('/opt/ml/input/data/train')"
      ]
     },
     "execution_count": 65,
     "metadata": {},
     "output_type": "execute_result"
    }
   ],
   "source": [
    "root"
   ]
  },
  {
   "cell_type": "code",
   "execution_count": 66,
   "metadata": {},
   "outputs": [],
   "source": [
    "def is_age_60(path):\n",
    "    age = int(path.split('_')[3])\n",
    "    if age == 60:\n",
    "        return True\n",
    "    else:\n",
    "        return False"
   ]
  },
  {
   "cell_type": "code",
   "execution_count": 79,
   "metadata": {},
   "outputs": [
    {
     "data": {
      "text/plain": [
       "25620"
      ]
     },
     "execution_count": 79,
     "metadata": {},
     "output_type": "execute_result"
    }
   ],
   "source": [
    "from pathlib import Path\n",
    "\n",
    "root = Path('/opt/ml/input/data/train')\n",
    "total_paths = []\n",
    "for path in paths:\n",
    "    # path == '000001_female_Asian_45'\n",
    "    files = (root / 'images' / path).glob('*.*')\n",
    "    files = [f for f in files if _is_image(f)]\n",
    "    total_paths.extend(files)\n",
    "    \n",
    "    # 60aug_image path 추가\n",
    "    if is_age_60(path):\n",
    "        # print(path)\n",
    "        files = (root / '60aug-images' / path).glob('*.*')\n",
    "        files = [f for f in files if _is_image(f)]\n",
    "        total_paths.extend(files)\n",
    "len(total_paths)"
   ]
  },
  {
   "cell_type": "code",
   "execution_count": 80,
   "metadata": {},
   "outputs": [
    {
     "data": {
      "text/html": [
       "<div>\n",
       "<style scoped>\n",
       "    .dataframe tbody tr th:only-of-type {\n",
       "        vertical-align: middle;\n",
       "    }\n",
       "\n",
       "    .dataframe tbody tr th {\n",
       "        vertical-align: top;\n",
       "    }\n",
       "\n",
       "    .dataframe thead th {\n",
       "        text-align: right;\n",
       "    }\n",
       "</style>\n",
       "<table border=\"1\" class=\"dataframe\">\n",
       "  <thead>\n",
       "    <tr style=\"text-align: right;\">\n",
       "      <th></th>\n",
       "      <th>path</th>\n",
       "    </tr>\n",
       "  </thead>\n",
       "  <tbody>\n",
       "    <tr>\n",
       "      <th>0</th>\n",
       "      <td>/opt/ml/input/data/train/images/000001_female_...</td>\n",
       "    </tr>\n",
       "    <tr>\n",
       "      <th>1</th>\n",
       "      <td>/opt/ml/input/data/train/images/000001_female_...</td>\n",
       "    </tr>\n",
       "    <tr>\n",
       "      <th>2</th>\n",
       "      <td>/opt/ml/input/data/train/images/000001_female_...</td>\n",
       "    </tr>\n",
       "    <tr>\n",
       "      <th>3</th>\n",
       "      <td>/opt/ml/input/data/train/images/000001_female_...</td>\n",
       "    </tr>\n",
       "    <tr>\n",
       "      <th>4</th>\n",
       "      <td>/opt/ml/input/data/train/images/000001_female_...</td>\n",
       "    </tr>\n",
       "  </tbody>\n",
       "</table>\n",
       "</div>"
      ],
      "text/plain": [
       "                                                path\n",
       "0  /opt/ml/input/data/train/images/000001_female_...\n",
       "1  /opt/ml/input/data/train/images/000001_female_...\n",
       "2  /opt/ml/input/data/train/images/000001_female_...\n",
       "3  /opt/ml/input/data/train/images/000001_female_...\n",
       "4  /opt/ml/input/data/train/images/000001_female_..."
      ]
     },
     "execution_count": 80,
     "metadata": {},
     "output_type": "execute_result"
    }
   ],
   "source": [
    "# total_paths 에서 aug60_images 폴더에서 가져온 path를 찾아보자.\n",
    "total_paths_df = pd.DataFrame(total_paths, columns=['path'])\n",
    "total_paths_df.head()"
   ]
  },
  {
   "cell_type": "code",
   "execution_count": null,
   "metadata": {},
   "outputs": [],
   "source": [
    "total_paths_df[total_paths_df['path'] == re.()]"
   ]
  },
  {
   "cell_type": "code",
   "execution_count": 83,
   "metadata": {},
   "outputs": [],
   "source": [
    "def _parse(p):\n",
    "        \"\"\"\n",
    "        path를 파싱해 라벨 리턴\n",
    "        \"\"\"\n",
    "        p = str(p)\n",
    "        match = re.search('_(.+)_Asian_(\\d+)/(.*)[\\.-]', p)\n",
    "        if match and len(match.groups()) == 3:\n",
    "            gender, age, mask = match.groups()\n",
    "            # gender = 0 if gender == 'male' else 1\n",
    "            if gender == 'male':\n",
    "                gender = 0\n",
    "            else:\n",
    "                gender = 1\n",
    "            age = int(age)\n",
    "            if age < 30:\n",
    "                age = 0\n",
    "            elif age < 60:\n",
    "                age = 1\n",
    "            else:\n",
    "                age = 2\n",
    "\n",
    "            if mask.startswith('normal'):\n",
    "                mask = 2\n",
    "            elif mask.startswith('incorrect'):\n",
    "                mask = 1\n",
    "            else:\n",
    "                mask = 0           \n",
    "\n",
    "            return str((mask, gender, age))\n",
    "        else:\n",
    "            raise Exception(f'Cannot parsing label from the path: {p}')\n",
    "        "
   ]
  },
  {
   "cell_type": "code",
   "execution_count": null,
   "metadata": {},
   "outputs": [],
   "source": [
    "\n",
    "for p in total_paths:\n",
    "    print(p)\n",
    "    print(_parse(p))\n",
    "    # if _parse(p) == '(0, 1, 2)':\n",
    "    #     print(p)"
   ]
  },
  {
   "cell_type": "markdown",
   "metadata": {},
   "source": [
    "### 정규식 테스트"
   ]
  },
  {
   "cell_type": "code",
   "execution_count": 9,
   "metadata": {},
   "outputs": [
    {
     "name": "stdout",
     "output_type": "stream",
     "text": [
      "mask : mask2_T3\n",
      "gender : male\n",
      "age : 60\n"
     ]
    }
   ],
   "source": [
    "import re\n",
    "# /opt/ml/input/data/train/60aug_images/001038_male_Asian_60/incorrect_mask_T5.jpg 에서 age, gender, mask 정규식으로 뽑아보자.\n",
    "p = '/opt/ml/input/data/train/60aug-images/001038_male_Asian_60/mask2_T3.jpg'\n",
    "match = re.search('_(.+)_Asian_(\\d+)/(.*)[\\.-]', p)\n",
    "gender, age, mask = match.groups()\n",
    "# gender = 0 if gender == 'male' else 1\n",
    "print(f\"mask : {mask}\")\n",
    "print(f\"gender : {gender}\")\n",
    "print(f\"age : {age}\")\n"
   ]
  },
  {
   "cell_type": "code",
   "execution_count": 84,
   "metadata": {},
   "outputs": [
    {
     "data": {
      "text/plain": [
       "25620"
      ]
     },
     "execution_count": 84,
     "metadata": {},
     "output_type": "execute_result"
    }
   ],
   "source": [
    "labels = []\n",
    "for p in total_paths:\n",
    "    labels.append(_parse(p))\n",
    "len(labels)\n"
   ]
  },
  {
   "cell_type": "code",
   "execution_count": 85,
   "metadata": {},
   "outputs": [
    {
     "data": {
      "text/html": [
       "<div>\n",
       "<style scoped>\n",
       "    .dataframe tbody tr th:only-of-type {\n",
       "        vertical-align: middle;\n",
       "    }\n",
       "\n",
       "    .dataframe tbody tr th {\n",
       "        vertical-align: top;\n",
       "    }\n",
       "\n",
       "    .dataframe thead th {\n",
       "        text-align: right;\n",
       "    }\n",
       "</style>\n",
       "<table border=\"1\" class=\"dataframe\">\n",
       "  <thead>\n",
       "    <tr style=\"text-align: right;\">\n",
       "      <th></th>\n",
       "      <th>label</th>\n",
       "    </tr>\n",
       "  </thead>\n",
       "  <tbody>\n",
       "    <tr>\n",
       "      <th>0</th>\n",
       "      <td>(0, 1, 1)</td>\n",
       "    </tr>\n",
       "    <tr>\n",
       "      <th>1</th>\n",
       "      <td>(0, 1, 1)</td>\n",
       "    </tr>\n",
       "    <tr>\n",
       "      <th>2</th>\n",
       "      <td>(0, 1, 1)</td>\n",
       "    </tr>\n",
       "    <tr>\n",
       "      <th>3</th>\n",
       "      <td>(0, 1, 1)</td>\n",
       "    </tr>\n",
       "    <tr>\n",
       "      <th>4</th>\n",
       "      <td>(0, 1, 1)</td>\n",
       "    </tr>\n",
       "  </tbody>\n",
       "</table>\n",
       "</div>"
      ],
      "text/plain": [
       "       label\n",
       "0  (0, 1, 1)\n",
       "1  (0, 1, 1)\n",
       "2  (0, 1, 1)\n",
       "3  (0, 1, 1)\n",
       "4  (0, 1, 1)"
      ]
     },
     "execution_count": 85,
     "metadata": {},
     "output_type": "execute_result"
    }
   ],
   "source": [
    "total_labels_df = pd.DataFrame(labels, columns=['label'])\n",
    "total_labels_df.head()"
   ]
  },
  {
   "cell_type": "code",
   "execution_count": 51,
   "metadata": {},
   "outputs": [
    {
     "name": "stdout",
     "output_type": "stream",
     "text": [
      "(0, 1, 1)\n",
      "<class 'str'>\n"
     ]
    }
   ],
   "source": [
    "print(total_labels_df['label'][1])\n",
    "print(type(total_labels_df['label'][1]))"
   ]
  },
  {
   "cell_type": "code",
   "execution_count": 86,
   "metadata": {},
   "outputs": [
    {
     "name": "stdout",
     "output_type": "stream",
     "text": [
      "label    2775\n",
      "dtype: int64\n",
      "label    2050\n",
      "dtype: int64\n",
      "label    2490\n",
      "dtype: int64\n",
      "label    3630\n",
      "dtype: int64\n",
      "label    4085\n",
      "dtype: int64\n",
      "label    3270\n",
      "dtype: int64\n",
      "label    555\n",
      "dtype: int64\n",
      "label    410\n",
      "dtype: int64\n",
      "label    498\n",
      "dtype: int64\n",
      "label    726\n",
      "dtype: int64\n",
      "label    817\n",
      "dtype: int64\n",
      "label    654\n",
      "dtype: int64\n",
      "label    555\n",
      "dtype: int64\n",
      "label    410\n",
      "dtype: int64\n",
      "label    498\n",
      "dtype: int64\n",
      "label    726\n",
      "dtype: int64\n",
      "label    817\n",
      "dtype: int64\n",
      "label    654\n",
      "dtype: int64\n"
     ]
    }
   ],
   "source": [
    "print(total_labels_df[total_labels_df['label'] == '(0, 0, 0)'].count())\n",
    "print(total_labels_df[total_labels_df['label'] == '(0, 0, 1)'].count())\n",
    "print(total_labels_df[total_labels_df['label'] == '(0, 0, 2)'].count())\n",
    "print(total_labels_df[total_labels_df['label'] == '(0, 1, 0)'].count())\n",
    "print(total_labels_df[total_labels_df['label'] == '(0, 1, 1)'].count())\n",
    "print(total_labels_df[total_labels_df['label'] == '(0, 1, 2)'].count())\n",
    "print(total_labels_df[total_labels_df['label'] == '(1, 0, 0)'].count())\n",
    "print(total_labels_df[total_labels_df['label'] == '(1, 0, 1)'].count())\n",
    "print(total_labels_df[total_labels_df['label'] == '(1, 0, 2)'].count())\n",
    "print(total_labels_df[total_labels_df['label'] == '(1, 1, 0)'].count())\n",
    "print(total_labels_df[total_labels_df['label'] == '(1, 1, 1)'].count())\n",
    "print(total_labels_df[total_labels_df['label'] == '(1, 1, 2)'].count())\n",
    "print(total_labels_df[total_labels_df['label'] == '(2, 0, 0)'].count())\n",
    "print(total_labels_df[total_labels_df['label'] == '(2, 0, 1)'].count())\n",
    "print(total_labels_df[total_labels_df['label'] == '(2, 0, 2)'].count())\n",
    "print(total_labels_df[total_labels_df['label'] == '(2, 1, 0)'].count())\n",
    "print(total_labels_df[total_labels_df['label'] == '(2, 1, 1)'].count())\n",
    "print(total_labels_df[total_labels_df['label'] == '(2, 1, 2)'].count())"
   ]
  },
  {
   "cell_type": "code",
   "execution_count": 87,
   "metadata": {},
   "outputs": [
    {
     "data": {
      "text/plain": [
       "<matplotlib.axes._subplots.AxesSubplot at 0x7f9b28cb8df0>"
      ]
     },
     "execution_count": 87,
     "metadata": {},
     "output_type": "execute_result"
    },
    {
     "data": {
      "image/png": "[encoded data removed]",
      "text/plain": [
       "<Figure size 900x600 with 1 Axes>"
      ]
     },
     "metadata": {
      "needs_background": "light"
     },
     "output_type": "display_data"
    }
   ],
   "source": [
    "# paths를 참고해서 label 분포를 확인해보자.\n",
    "plt.figure(dpi=150)\n",
    "plt.xticks(rotation=45)\n",
    "plt.title('60 aug data Distribution')\n",
    "\n",
    "sns.countplot(x='label', data=total_labels_df, order=sorted(total_labels_df['label'].unique()))"
   ]
  },
  {
   "cell_type": "code",
   "execution_count": null,
   "metadata": {},
   "outputs": [],
   "source": []
  }
 ],
 "metadata": {
  "kernelspec": {
   "display_name": "Python 3.8.5 ('base')",
   "language": "python",
   "name": "python3"
  },
  "language_info": {
   "codemirror_mode": {
    "name": "ipython",
    "version": 3
   },
   "file_extension": ".py",
   "mimetype": "text/x-python",
   "name": "python",
   "nbconvert_exporter": "python",
   "pygments_lexer": "ipython3",
   "version": "3.8.5"
  },
  "orig_nbformat": 4,
  "vscode": {
   "interpreter": {
    "hash": "d4d1e4263499bec80672ea0156c357c1ee493ec2b1c70f0acce89fc37c4a6abe"
   }
  }
 },
 "nbformat": 4,
 "nbformat_minor": 2
}
