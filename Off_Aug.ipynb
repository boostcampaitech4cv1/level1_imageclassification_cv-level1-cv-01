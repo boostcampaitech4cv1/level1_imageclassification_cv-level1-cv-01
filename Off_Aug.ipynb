{
 "cells": [
  {
   "cell_type": "code",
   "execution_count": 52,
   "id": "f1848394-4209-4971-9604-12c8e50f3cbe",
   "metadata": {},
   "outputs": [],
   "source": [
    "import pandas as pd\n",
    "import os\n",
    "import glob\n",
    "import albumentations as A\n",
    "import cv2\n",
    "import numpy as np\n",
    "from PIL import Image"
   ]
  },
  {
   "cell_type": "code",
   "execution_count": 53,
   "id": "282cc7f6-21af-4de1-9520-ca8b82d0871e",
   "metadata": {},
   "outputs": [
    {
     "data": {
      "text/plain": [
       "'1.3.0'"
      ]
     },
     "execution_count": 53,
     "metadata": {},
     "output_type": "execute_result"
    }
   ],
   "source": [
    "cv2.__version__\n",
    "A.__version__"
   ]
  },
  {
   "cell_type": "code",
   "execution_count": 58,
   "id": "dbdda3fc-b8a8-4a9e-90cf-9fff48e42b51",
   "metadata": {},
   "outputs": [],
   "source": [
    "root = '/opt/ml/input/data'\n",
    "\n",
    "filenames = ['incorrect_mask', 'mask1', 'mask2', 'mask3', 'mask4', 'mask5', 'normal']\n",
    "\n",
    "paths = []\n",
    "df = pd.read_csv(os.path.join(root, 'train', 'train.csv'))\n",
    "for path in df['path']:\n",
    "    p = [glob.glob(os.path.join(root, 'train', 'images', path, f+'*')) for f in filenames]\n",
    "    paths.extend(p)"
   ]
  },
  {
   "cell_type": "code",
   "execution_count": 59,
   "id": "0ae26a1e-efc7-4dbd-8e30-f16f418f6dac",
   "metadata": {},
   "outputs": [],
   "source": [
    "Horizontal = A.Compose([\n",
    "    A.HorizontalFlip(p=1)\n",
    "])\n",
    "\n",
    "Blur = A.Compose([\n",
    "    A.MedianBlur(blur_limit=5, p=1)\n",
    "])\n",
    "\n",
    "Rotation = A.Compose([\n",
    "    A.Rotate(limit=60, p=1, always_apply=True)\n",
    "])"
   ]
  },
  {
   "cell_type": "code",
   "execution_count": 66,
   "id": "b0fa63fa-6585-40d6-a098-220f3551237d",
   "metadata": {},
   "outputs": [],
   "source": [
    "for p in paths:\n",
    "    image = np.array(Image.open(p[0]))\n",
    "    \n",
    "    _Horizontal = Horizontal(image=image)\n",
    "    _Blur = Blur(image=image)\n",
    "    _Rotation = Rotation(image=image)\n",
    "    _, ext = p[0].split('.')\n",
    "    new_path = p[0].replace('train', 'off_aug')\n",
    "    \n",
    "    os.makedirs(os.path.dirname(new_path), exist_ok=True)\n",
    "    \n",
    "    Image.fromarray(Horizontal(image=image)[\"image\"]).save(new_path[:-4] + '_H.' + ext)\n",
    "    Image.fromarray(Blur(image=image)[\"image\"]).save(new_path[:-4] + '_B.' + ext)\n",
    "    Image.fromarray(Rotation(image=image)[\"image\"]).save(new_path[:-4] + '_R.' + ext)"
   ]
  },
  {
   "cell_type": "code",
   "execution_count": null,
   "id": "13740b55-bdf4-4627-bf8c-2cb16cbd36b2",
   "metadata": {},
   "outputs": [],
   "source": []
  }
 ],
 "metadata": {
  "kernelspec": {
   "display_name": "Python 3 (ipykernel)",
   "language": "python",
   "name": "python3"
  },
  "language_info": {
   "codemirror_mode": {
    "name": "ipython",
    "version": 3
   },
   "file_extension": ".py",
   "mimetype": "text/x-python",
   "name": "python",
   "nbconvert_exporter": "python",
   "pygments_lexer": "ipython3",
   "version": "3.8.5"
  }
 },
 "nbformat": 4,
 "nbformat_minor": 5
}
